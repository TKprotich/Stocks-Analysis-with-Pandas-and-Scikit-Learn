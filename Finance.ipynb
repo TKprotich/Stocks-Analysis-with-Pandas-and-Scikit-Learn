{
  "nbformat": 4,
  "nbformat_minor": 0,
  "metadata": {
    "colab": {
      "name": "Finance.ipynb",
      "version": "0.3.2",
      "provenance": [],
      "toc_visible": true,
      "include_colab_link": true
    },
    "kernelspec": {
      "name": "python3",
      "display_name": "Python 3"
    }
  },
  "cells": [
    {
      "cell_type": "markdown",
      "metadata": {
        "id": "view-in-github",
        "colab_type": "text"
      },
      "source": [
        "<a href=\"https://colab.research.google.com/github/marchemjor/Stocks-Analysis-with-Pandas-and-Scikit-Learn/blob/master/Finance.ipynb\" target=\"_parent\"><img src=\"https://colab.research.google.com/assets/colab-badge.svg\" alt=\"Open In Colab\"/></a>"
      ]
    },
    {
      "cell_type": "code",
      "metadata": {
        "id": "UBJPriE9yH8n",
        "colab_type": "code",
        "colab": {}
      },
      "source": [
        "import numpy as np\n",
        "import sklearn as sk\n",
        "import pandas as pd\n",
        "import matplotlib.pyplot as plt\n",
        "from sklearn.preprocessing import scale\n",
        "import random\n",
        "import seaborn as sns\n",
        "from sklearn.linear_model import LinearRegression\n",
        "from sklearn.neighbors import KNeighborsRegressor\n",
        "from sklearn.linear_model import Ridge\n",
        "from sklearn.preprocessing import PolynomialFeatures\n",
        "from sklearn.pipeline import make_pipeline\n"
      ],
      "execution_count": 0,
      "outputs": []
    },
    {
      "cell_type": "code",
      "metadata": {
        "id": "w2pEdpNfKH0T",
        "colab_type": "code",
        "outputId": "5ca5dcfb-7116-427a-cc86-42f14df81e60",
        "colab": {
          "base_uri": "https://localhost:8080/",
          "height": 1000
        }
      },
      "source": [
        "fobj=pd.read_csv(\"AAPL.csv\")\n",
        "#Creating a datetime index\n",
        "fobj.set_index('Date')"
      ],
      "execution_count": 198,
      "outputs": [
        {
          "output_type": "execute_result",
          "data": {
            "text/html": [
              "<div>\n",
              "<style scoped>\n",
              "    .dataframe tbody tr th:only-of-type {\n",
              "        vertical-align: middle;\n",
              "    }\n",
              "\n",
              "    .dataframe tbody tr th {\n",
              "        vertical-align: top;\n",
              "    }\n",
              "\n",
              "    .dataframe thead th {\n",
              "        text-align: right;\n",
              "    }\n",
              "</style>\n",
              "<table border=\"1\" class=\"dataframe\">\n",
              "  <thead>\n",
              "    <tr style=\"text-align: right;\">\n",
              "      <th></th>\n",
              "      <th>Open</th>\n",
              "      <th>High</th>\n",
              "      <th>Low</th>\n",
              "      <th>Close</th>\n",
              "      <th>Adj Close</th>\n",
              "      <th>Volume</th>\n",
              "    </tr>\n",
              "    <tr>\n",
              "      <th>Date</th>\n",
              "      <th></th>\n",
              "      <th></th>\n",
              "      <th></th>\n",
              "      <th></th>\n",
              "      <th></th>\n",
              "      <th></th>\n",
              "    </tr>\n",
              "  </thead>\n",
              "  <tbody>\n",
              "    <tr>\n",
              "      <th>2018-09-10</th>\n",
              "      <td>220.949997</td>\n",
              "      <td>221.850006</td>\n",
              "      <td>216.470001</td>\n",
              "      <td>218.330002</td>\n",
              "      <td>214.993759</td>\n",
              "      <td>39516500</td>\n",
              "    </tr>\n",
              "    <tr>\n",
              "      <th>2018-09-11</th>\n",
              "      <td>218.009995</td>\n",
              "      <td>224.300003</td>\n",
              "      <td>216.559998</td>\n",
              "      <td>223.850006</td>\n",
              "      <td>220.429443</td>\n",
              "      <td>35749000</td>\n",
              "    </tr>\n",
              "    <tr>\n",
              "      <th>2018-09-12</th>\n",
              "      <td>224.940002</td>\n",
              "      <td>225.000000</td>\n",
              "      <td>219.839996</td>\n",
              "      <td>221.070007</td>\n",
              "      <td>217.691925</td>\n",
              "      <td>49278700</td>\n",
              "    </tr>\n",
              "    <tr>\n",
              "      <th>2018-09-13</th>\n",
              "      <td>223.520004</td>\n",
              "      <td>228.350006</td>\n",
              "      <td>222.570007</td>\n",
              "      <td>226.410004</td>\n",
              "      <td>222.950317</td>\n",
              "      <td>41706400</td>\n",
              "    </tr>\n",
              "    <tr>\n",
              "      <th>2018-09-14</th>\n",
              "      <td>225.750000</td>\n",
              "      <td>226.839996</td>\n",
              "      <td>222.520004</td>\n",
              "      <td>223.839996</td>\n",
              "      <td>220.419571</td>\n",
              "      <td>31999300</td>\n",
              "    </tr>\n",
              "    <tr>\n",
              "      <th>2018-09-17</th>\n",
              "      <td>222.149994</td>\n",
              "      <td>222.949997</td>\n",
              "      <td>217.270004</td>\n",
              "      <td>217.880005</td>\n",
              "      <td>214.550659</td>\n",
              "      <td>37195100</td>\n",
              "    </tr>\n",
              "    <tr>\n",
              "      <th>2018-09-18</th>\n",
              "      <td>217.789993</td>\n",
              "      <td>221.850006</td>\n",
              "      <td>217.119995</td>\n",
              "      <td>218.240005</td>\n",
              "      <td>214.905167</td>\n",
              "      <td>31571700</td>\n",
              "    </tr>\n",
              "    <tr>\n",
              "      <th>2018-09-19</th>\n",
              "      <td>218.500000</td>\n",
              "      <td>219.619995</td>\n",
              "      <td>215.300003</td>\n",
              "      <td>218.369995</td>\n",
              "      <td>215.033142</td>\n",
              "      <td>27123800</td>\n",
              "    </tr>\n",
              "    <tr>\n",
              "      <th>2018-09-20</th>\n",
              "      <td>220.240005</td>\n",
              "      <td>222.279999</td>\n",
              "      <td>219.149994</td>\n",
              "      <td>220.029999</td>\n",
              "      <td>216.667816</td>\n",
              "      <td>26608800</td>\n",
              "    </tr>\n",
              "    <tr>\n",
              "      <th>2018-09-21</th>\n",
              "      <td>220.779999</td>\n",
              "      <td>221.360001</td>\n",
              "      <td>217.289993</td>\n",
              "      <td>217.660004</td>\n",
              "      <td>214.334030</td>\n",
              "      <td>96246700</td>\n",
              "    </tr>\n",
              "    <tr>\n",
              "      <th>2018-09-24</th>\n",
              "      <td>216.820007</td>\n",
              "      <td>221.259995</td>\n",
              "      <td>216.630005</td>\n",
              "      <td>220.789993</td>\n",
              "      <td>217.416183</td>\n",
              "      <td>27693400</td>\n",
              "    </tr>\n",
              "    <tr>\n",
              "      <th>2018-09-25</th>\n",
              "      <td>219.750000</td>\n",
              "      <td>222.820007</td>\n",
              "      <td>219.699997</td>\n",
              "      <td>222.190002</td>\n",
              "      <td>218.794800</td>\n",
              "      <td>24554400</td>\n",
              "    </tr>\n",
              "    <tr>\n",
              "      <th>2018-09-26</th>\n",
              "      <td>221.000000</td>\n",
              "      <td>223.750000</td>\n",
              "      <td>219.759995</td>\n",
              "      <td>220.419998</td>\n",
              "      <td>217.051849</td>\n",
              "      <td>23984700</td>\n",
              "    </tr>\n",
              "    <tr>\n",
              "      <th>2018-09-27</th>\n",
              "      <td>223.820007</td>\n",
              "      <td>226.440002</td>\n",
              "      <td>223.539993</td>\n",
              "      <td>224.949997</td>\n",
              "      <td>221.512604</td>\n",
              "      <td>30181200</td>\n",
              "    </tr>\n",
              "    <tr>\n",
              "      <th>2018-09-28</th>\n",
              "      <td>224.789993</td>\n",
              "      <td>225.839996</td>\n",
              "      <td>224.020004</td>\n",
              "      <td>225.740005</td>\n",
              "      <td>222.290543</td>\n",
              "      <td>22929400</td>\n",
              "    </tr>\n",
              "    <tr>\n",
              "      <th>2018-10-01</th>\n",
              "      <td>227.949997</td>\n",
              "      <td>229.419998</td>\n",
              "      <td>226.350006</td>\n",
              "      <td>227.259995</td>\n",
              "      <td>223.787323</td>\n",
              "      <td>23600800</td>\n",
              "    </tr>\n",
              "    <tr>\n",
              "      <th>2018-10-02</th>\n",
              "      <td>227.250000</td>\n",
              "      <td>230.000000</td>\n",
              "      <td>226.630005</td>\n",
              "      <td>229.279999</td>\n",
              "      <td>225.776459</td>\n",
              "      <td>24788200</td>\n",
              "    </tr>\n",
              "    <tr>\n",
              "      <th>2018-10-03</th>\n",
              "      <td>230.050003</td>\n",
              "      <td>233.470001</td>\n",
              "      <td>229.779999</td>\n",
              "      <td>232.070007</td>\n",
              "      <td>228.523819</td>\n",
              "      <td>28654800</td>\n",
              "    </tr>\n",
              "    <tr>\n",
              "      <th>2018-10-04</th>\n",
              "      <td>230.779999</td>\n",
              "      <td>232.350006</td>\n",
              "      <td>226.729996</td>\n",
              "      <td>227.990005</td>\n",
              "      <td>224.506180</td>\n",
              "      <td>32042000</td>\n",
              "    </tr>\n",
              "    <tr>\n",
              "      <th>2018-10-05</th>\n",
              "      <td>227.960007</td>\n",
              "      <td>228.410004</td>\n",
              "      <td>220.580002</td>\n",
              "      <td>224.289993</td>\n",
              "      <td>220.862717</td>\n",
              "      <td>33580500</td>\n",
              "    </tr>\n",
              "    <tr>\n",
              "      <th>2018-10-08</th>\n",
              "      <td>222.210007</td>\n",
              "      <td>224.800003</td>\n",
              "      <td>220.199997</td>\n",
              "      <td>223.770004</td>\n",
              "      <td>220.350662</td>\n",
              "      <td>29663900</td>\n",
              "    </tr>\n",
              "    <tr>\n",
              "      <th>2018-10-09</th>\n",
              "      <td>223.639999</td>\n",
              "      <td>227.270004</td>\n",
              "      <td>222.250000</td>\n",
              "      <td>226.869995</td>\n",
              "      <td>223.403275</td>\n",
              "      <td>26891000</td>\n",
              "    </tr>\n",
              "    <tr>\n",
              "      <th>2018-10-10</th>\n",
              "      <td>225.460007</td>\n",
              "      <td>226.350006</td>\n",
              "      <td>216.050003</td>\n",
              "      <td>216.360001</td>\n",
              "      <td>213.053894</td>\n",
              "      <td>41990600</td>\n",
              "    </tr>\n",
              "    <tr>\n",
              "      <th>2018-10-11</th>\n",
              "      <td>214.520004</td>\n",
              "      <td>219.500000</td>\n",
              "      <td>212.320007</td>\n",
              "      <td>214.449997</td>\n",
              "      <td>211.173065</td>\n",
              "      <td>53124400</td>\n",
              "    </tr>\n",
              "    <tr>\n",
              "      <th>2018-10-12</th>\n",
              "      <td>220.419998</td>\n",
              "      <td>222.880005</td>\n",
              "      <td>216.839996</td>\n",
              "      <td>222.110001</td>\n",
              "      <td>218.716034</td>\n",
              "      <td>40337900</td>\n",
              "    </tr>\n",
              "    <tr>\n",
              "      <th>2018-10-15</th>\n",
              "      <td>221.160004</td>\n",
              "      <td>221.830002</td>\n",
              "      <td>217.270004</td>\n",
              "      <td>217.360001</td>\n",
              "      <td>214.038605</td>\n",
              "      <td>30791000</td>\n",
              "    </tr>\n",
              "    <tr>\n",
              "      <th>2018-10-16</th>\n",
              "      <td>218.929993</td>\n",
              "      <td>222.990005</td>\n",
              "      <td>216.759995</td>\n",
              "      <td>222.149994</td>\n",
              "      <td>218.755417</td>\n",
              "      <td>29184000</td>\n",
              "    </tr>\n",
              "    <tr>\n",
              "      <th>2018-10-17</th>\n",
              "      <td>222.300003</td>\n",
              "      <td>222.639999</td>\n",
              "      <td>219.339996</td>\n",
              "      <td>221.190002</td>\n",
              "      <td>217.810089</td>\n",
              "      <td>22885400</td>\n",
              "    </tr>\n",
              "    <tr>\n",
              "      <th>2018-10-18</th>\n",
              "      <td>217.860001</td>\n",
              "      <td>219.740005</td>\n",
              "      <td>213.000000</td>\n",
              "      <td>216.020004</td>\n",
              "      <td>212.719086</td>\n",
              "      <td>32581300</td>\n",
              "    </tr>\n",
              "    <tr>\n",
              "      <th>2018-10-19</th>\n",
              "      <td>218.059998</td>\n",
              "      <td>221.259995</td>\n",
              "      <td>217.429993</td>\n",
              "      <td>219.309998</td>\n",
              "      <td>215.958801</td>\n",
              "      <td>33078700</td>\n",
              "    </tr>\n",
              "    <tr>\n",
              "      <th>...</th>\n",
              "      <td>...</td>\n",
              "      <td>...</td>\n",
              "      <td>...</td>\n",
              "      <td>...</td>\n",
              "      <td>...</td>\n",
              "      <td>...</td>\n",
              "    </tr>\n",
              "    <tr>\n",
              "      <th>2019-07-26</th>\n",
              "      <td>207.479996</td>\n",
              "      <td>209.729996</td>\n",
              "      <td>207.139999</td>\n",
              "      <td>207.740005</td>\n",
              "      <td>206.953690</td>\n",
              "      <td>17618900</td>\n",
              "    </tr>\n",
              "    <tr>\n",
              "      <th>2019-07-29</th>\n",
              "      <td>208.460007</td>\n",
              "      <td>210.639999</td>\n",
              "      <td>208.440002</td>\n",
              "      <td>209.679993</td>\n",
              "      <td>208.886337</td>\n",
              "      <td>21673400</td>\n",
              "    </tr>\n",
              "    <tr>\n",
              "      <th>2019-07-30</th>\n",
              "      <td>208.759995</td>\n",
              "      <td>210.160004</td>\n",
              "      <td>207.309998</td>\n",
              "      <td>208.779999</td>\n",
              "      <td>207.989746</td>\n",
              "      <td>33935700</td>\n",
              "    </tr>\n",
              "    <tr>\n",
              "      <th>2019-07-31</th>\n",
              "      <td>216.419998</td>\n",
              "      <td>221.369995</td>\n",
              "      <td>211.300003</td>\n",
              "      <td>213.039993</td>\n",
              "      <td>212.233627</td>\n",
              "      <td>69281400</td>\n",
              "    </tr>\n",
              "    <tr>\n",
              "      <th>2019-08-01</th>\n",
              "      <td>213.899994</td>\n",
              "      <td>218.029999</td>\n",
              "      <td>206.740005</td>\n",
              "      <td>208.429993</td>\n",
              "      <td>207.641068</td>\n",
              "      <td>54017900</td>\n",
              "    </tr>\n",
              "    <tr>\n",
              "      <th>2019-08-02</th>\n",
              "      <td>205.529999</td>\n",
              "      <td>206.429993</td>\n",
              "      <td>201.630005</td>\n",
              "      <td>204.020004</td>\n",
              "      <td>203.247772</td>\n",
              "      <td>40862100</td>\n",
              "    </tr>\n",
              "    <tr>\n",
              "      <th>2019-08-05</th>\n",
              "      <td>197.990005</td>\n",
              "      <td>198.649994</td>\n",
              "      <td>192.580002</td>\n",
              "      <td>193.339996</td>\n",
              "      <td>192.608185</td>\n",
              "      <td>52393000</td>\n",
              "    </tr>\n",
              "    <tr>\n",
              "      <th>2019-08-06</th>\n",
              "      <td>196.309998</td>\n",
              "      <td>198.070007</td>\n",
              "      <td>194.039993</td>\n",
              "      <td>197.000000</td>\n",
              "      <td>196.254333</td>\n",
              "      <td>35824800</td>\n",
              "    </tr>\n",
              "    <tr>\n",
              "      <th>2019-08-07</th>\n",
              "      <td>195.410004</td>\n",
              "      <td>199.559998</td>\n",
              "      <td>193.820007</td>\n",
              "      <td>199.039993</td>\n",
              "      <td>198.286606</td>\n",
              "      <td>33364400</td>\n",
              "    </tr>\n",
              "    <tr>\n",
              "      <th>2019-08-08</th>\n",
              "      <td>200.199997</td>\n",
              "      <td>203.529999</td>\n",
              "      <td>199.389999</td>\n",
              "      <td>203.429993</td>\n",
              "      <td>202.659988</td>\n",
              "      <td>27009500</td>\n",
              "    </tr>\n",
              "    <tr>\n",
              "      <th>2019-08-09</th>\n",
              "      <td>201.300003</td>\n",
              "      <td>202.759995</td>\n",
              "      <td>199.289993</td>\n",
              "      <td>200.990005</td>\n",
              "      <td>200.990005</td>\n",
              "      <td>24619700</td>\n",
              "    </tr>\n",
              "    <tr>\n",
              "      <th>2019-08-12</th>\n",
              "      <td>199.619995</td>\n",
              "      <td>202.050003</td>\n",
              "      <td>199.149994</td>\n",
              "      <td>200.479996</td>\n",
              "      <td>200.479996</td>\n",
              "      <td>22474900</td>\n",
              "    </tr>\n",
              "    <tr>\n",
              "      <th>2019-08-13</th>\n",
              "      <td>201.020004</td>\n",
              "      <td>212.139999</td>\n",
              "      <td>200.479996</td>\n",
              "      <td>208.970001</td>\n",
              "      <td>208.970001</td>\n",
              "      <td>47218500</td>\n",
              "    </tr>\n",
              "    <tr>\n",
              "      <th>2019-08-14</th>\n",
              "      <td>203.160004</td>\n",
              "      <td>206.440002</td>\n",
              "      <td>202.589996</td>\n",
              "      <td>202.750000</td>\n",
              "      <td>202.750000</td>\n",
              "      <td>36547400</td>\n",
              "    </tr>\n",
              "    <tr>\n",
              "      <th>2019-08-15</th>\n",
              "      <td>203.460007</td>\n",
              "      <td>205.139999</td>\n",
              "      <td>199.669998</td>\n",
              "      <td>201.740005</td>\n",
              "      <td>201.740005</td>\n",
              "      <td>27227400</td>\n",
              "    </tr>\n",
              "    <tr>\n",
              "      <th>2019-08-16</th>\n",
              "      <td>204.279999</td>\n",
              "      <td>207.160004</td>\n",
              "      <td>203.839996</td>\n",
              "      <td>206.500000</td>\n",
              "      <td>206.500000</td>\n",
              "      <td>27620400</td>\n",
              "    </tr>\n",
              "    <tr>\n",
              "      <th>2019-08-19</th>\n",
              "      <td>210.619995</td>\n",
              "      <td>212.729996</td>\n",
              "      <td>210.029999</td>\n",
              "      <td>210.350006</td>\n",
              "      <td>210.350006</td>\n",
              "      <td>24413600</td>\n",
              "    </tr>\n",
              "    <tr>\n",
              "      <th>2019-08-20</th>\n",
              "      <td>210.880005</td>\n",
              "      <td>213.350006</td>\n",
              "      <td>210.320007</td>\n",
              "      <td>210.360001</td>\n",
              "      <td>210.360001</td>\n",
              "      <td>26884300</td>\n",
              "    </tr>\n",
              "    <tr>\n",
              "      <th>2019-08-21</th>\n",
              "      <td>212.990005</td>\n",
              "      <td>213.649994</td>\n",
              "      <td>211.600006</td>\n",
              "      <td>212.639999</td>\n",
              "      <td>212.639999</td>\n",
              "      <td>21535400</td>\n",
              "    </tr>\n",
              "    <tr>\n",
              "      <th>2019-08-22</th>\n",
              "      <td>213.190002</td>\n",
              "      <td>214.440002</td>\n",
              "      <td>210.750000</td>\n",
              "      <td>212.460007</td>\n",
              "      <td>212.460007</td>\n",
              "      <td>22253700</td>\n",
              "    </tr>\n",
              "    <tr>\n",
              "      <th>2019-08-23</th>\n",
              "      <td>209.429993</td>\n",
              "      <td>212.050003</td>\n",
              "      <td>201.000000</td>\n",
              "      <td>202.639999</td>\n",
              "      <td>202.639999</td>\n",
              "      <td>46818000</td>\n",
              "    </tr>\n",
              "    <tr>\n",
              "      <th>2019-08-26</th>\n",
              "      <td>205.860001</td>\n",
              "      <td>207.190002</td>\n",
              "      <td>205.059998</td>\n",
              "      <td>206.490005</td>\n",
              "      <td>206.490005</td>\n",
              "      <td>26043600</td>\n",
              "    </tr>\n",
              "    <tr>\n",
              "      <th>2019-08-27</th>\n",
              "      <td>207.860001</td>\n",
              "      <td>208.550003</td>\n",
              "      <td>203.529999</td>\n",
              "      <td>204.160004</td>\n",
              "      <td>204.160004</td>\n",
              "      <td>25873300</td>\n",
              "    </tr>\n",
              "    <tr>\n",
              "      <th>2019-08-28</th>\n",
              "      <td>204.100006</td>\n",
              "      <td>205.720001</td>\n",
              "      <td>203.320007</td>\n",
              "      <td>205.529999</td>\n",
              "      <td>205.529999</td>\n",
              "      <td>15938800</td>\n",
              "    </tr>\n",
              "    <tr>\n",
              "      <th>2019-08-29</th>\n",
              "      <td>208.500000</td>\n",
              "      <td>209.320007</td>\n",
              "      <td>206.660004</td>\n",
              "      <td>209.009995</td>\n",
              "      <td>209.009995</td>\n",
              "      <td>20990500</td>\n",
              "    </tr>\n",
              "    <tr>\n",
              "      <th>2019-08-30</th>\n",
              "      <td>210.160004</td>\n",
              "      <td>210.449997</td>\n",
              "      <td>207.199997</td>\n",
              "      <td>208.740005</td>\n",
              "      <td>208.740005</td>\n",
              "      <td>21143400</td>\n",
              "    </tr>\n",
              "    <tr>\n",
              "      <th>2019-09-03</th>\n",
              "      <td>206.429993</td>\n",
              "      <td>206.979996</td>\n",
              "      <td>204.220001</td>\n",
              "      <td>205.699997</td>\n",
              "      <td>205.699997</td>\n",
              "      <td>20023000</td>\n",
              "    </tr>\n",
              "    <tr>\n",
              "      <th>2019-09-04</th>\n",
              "      <td>208.389999</td>\n",
              "      <td>209.479996</td>\n",
              "      <td>207.320007</td>\n",
              "      <td>209.190002</td>\n",
              "      <td>209.190002</td>\n",
              "      <td>19188100</td>\n",
              "    </tr>\n",
              "    <tr>\n",
              "      <th>2019-09-05</th>\n",
              "      <td>212.000000</td>\n",
              "      <td>213.970001</td>\n",
              "      <td>211.509995</td>\n",
              "      <td>213.279999</td>\n",
              "      <td>213.279999</td>\n",
              "      <td>23913700</td>\n",
              "    </tr>\n",
              "    <tr>\n",
              "      <th>2019-09-06</th>\n",
              "      <td>214.050003</td>\n",
              "      <td>214.419998</td>\n",
              "      <td>212.509995</td>\n",
              "      <td>213.259995</td>\n",
              "      <td>213.259995</td>\n",
              "      <td>19350800</td>\n",
              "    </tr>\n",
              "  </tbody>\n",
              "</table>\n",
              "<p>250 rows × 6 columns</p>\n",
              "</div>"
            ],
            "text/plain": [
              "                  Open        High  ...   Adj Close    Volume\n",
              "Date                                ...                      \n",
              "2018-09-10  220.949997  221.850006  ...  214.993759  39516500\n",
              "2018-09-11  218.009995  224.300003  ...  220.429443  35749000\n",
              "2018-09-12  224.940002  225.000000  ...  217.691925  49278700\n",
              "2018-09-13  223.520004  228.350006  ...  222.950317  41706400\n",
              "2018-09-14  225.750000  226.839996  ...  220.419571  31999300\n",
              "2018-09-17  222.149994  222.949997  ...  214.550659  37195100\n",
              "2018-09-18  217.789993  221.850006  ...  214.905167  31571700\n",
              "2018-09-19  218.500000  219.619995  ...  215.033142  27123800\n",
              "2018-09-20  220.240005  222.279999  ...  216.667816  26608800\n",
              "2018-09-21  220.779999  221.360001  ...  214.334030  96246700\n",
              "2018-09-24  216.820007  221.259995  ...  217.416183  27693400\n",
              "2018-09-25  219.750000  222.820007  ...  218.794800  24554400\n",
              "2018-09-26  221.000000  223.750000  ...  217.051849  23984700\n",
              "2018-09-27  223.820007  226.440002  ...  221.512604  30181200\n",
              "2018-09-28  224.789993  225.839996  ...  222.290543  22929400\n",
              "2018-10-01  227.949997  229.419998  ...  223.787323  23600800\n",
              "2018-10-02  227.250000  230.000000  ...  225.776459  24788200\n",
              "2018-10-03  230.050003  233.470001  ...  228.523819  28654800\n",
              "2018-10-04  230.779999  232.350006  ...  224.506180  32042000\n",
              "2018-10-05  227.960007  228.410004  ...  220.862717  33580500\n",
              "2018-10-08  222.210007  224.800003  ...  220.350662  29663900\n",
              "2018-10-09  223.639999  227.270004  ...  223.403275  26891000\n",
              "2018-10-10  225.460007  226.350006  ...  213.053894  41990600\n",
              "2018-10-11  214.520004  219.500000  ...  211.173065  53124400\n",
              "2018-10-12  220.419998  222.880005  ...  218.716034  40337900\n",
              "2018-10-15  221.160004  221.830002  ...  214.038605  30791000\n",
              "2018-10-16  218.929993  222.990005  ...  218.755417  29184000\n",
              "2018-10-17  222.300003  222.639999  ...  217.810089  22885400\n",
              "2018-10-18  217.860001  219.740005  ...  212.719086  32581300\n",
              "2018-10-19  218.059998  221.259995  ...  215.958801  33078700\n",
              "...                ...         ...  ...         ...       ...\n",
              "2019-07-26  207.479996  209.729996  ...  206.953690  17618900\n",
              "2019-07-29  208.460007  210.639999  ...  208.886337  21673400\n",
              "2019-07-30  208.759995  210.160004  ...  207.989746  33935700\n",
              "2019-07-31  216.419998  221.369995  ...  212.233627  69281400\n",
              "2019-08-01  213.899994  218.029999  ...  207.641068  54017900\n",
              "2019-08-02  205.529999  206.429993  ...  203.247772  40862100\n",
              "2019-08-05  197.990005  198.649994  ...  192.608185  52393000\n",
              "2019-08-06  196.309998  198.070007  ...  196.254333  35824800\n",
              "2019-08-07  195.410004  199.559998  ...  198.286606  33364400\n",
              "2019-08-08  200.199997  203.529999  ...  202.659988  27009500\n",
              "2019-08-09  201.300003  202.759995  ...  200.990005  24619700\n",
              "2019-08-12  199.619995  202.050003  ...  200.479996  22474900\n",
              "2019-08-13  201.020004  212.139999  ...  208.970001  47218500\n",
              "2019-08-14  203.160004  206.440002  ...  202.750000  36547400\n",
              "2019-08-15  203.460007  205.139999  ...  201.740005  27227400\n",
              "2019-08-16  204.279999  207.160004  ...  206.500000  27620400\n",
              "2019-08-19  210.619995  212.729996  ...  210.350006  24413600\n",
              "2019-08-20  210.880005  213.350006  ...  210.360001  26884300\n",
              "2019-08-21  212.990005  213.649994  ...  212.639999  21535400\n",
              "2019-08-22  213.190002  214.440002  ...  212.460007  22253700\n",
              "2019-08-23  209.429993  212.050003  ...  202.639999  46818000\n",
              "2019-08-26  205.860001  207.190002  ...  206.490005  26043600\n",
              "2019-08-27  207.860001  208.550003  ...  204.160004  25873300\n",
              "2019-08-28  204.100006  205.720001  ...  205.529999  15938800\n",
              "2019-08-29  208.500000  209.320007  ...  209.009995  20990500\n",
              "2019-08-30  210.160004  210.449997  ...  208.740005  21143400\n",
              "2019-09-03  206.429993  206.979996  ...  205.699997  20023000\n",
              "2019-09-04  208.389999  209.479996  ...  209.190002  19188100\n",
              "2019-09-05  212.000000  213.970001  ...  213.279999  23913700\n",
              "2019-09-06  214.050003  214.419998  ...  213.259995  19350800\n",
              "\n",
              "[250 rows x 6 columns]"
            ]
          },
          "metadata": {
            "tags": []
          },
          "execution_count": 198
        }
      ]
    },
    {
      "cell_type": "code",
      "metadata": {
        "id": "fIjkHcWPKRHY",
        "colab_type": "code",
        "outputId": "c35cc154-7dca-41fd-ff82-8c5807985d0d",
        "colab": {
          "base_uri": "https://localhost:8080/",
          "height": 34
        }
      },
      "source": [
        "fobj.columns"
      ],
      "execution_count": 199,
      "outputs": [
        {
          "output_type": "execute_result",
          "data": {
            "text/plain": [
              "Index(['Date', 'Open', 'High', 'Low', 'Close', 'Adj Close', 'Volume'], dtype='object')"
            ]
          },
          "metadata": {
            "tags": []
          },
          "execution_count": 199
        }
      ]
    },
    {
      "cell_type": "code",
      "metadata": {
        "id": "v1SS5MfmOHjn",
        "colab_type": "code",
        "colab": {
          "base_uri": "https://localhost:8080/",
          "height": 1000
        },
        "outputId": "7d7ce778-8187-46ab-a532-b9224ba4d678"
      },
      "source": [
        "#MA\n",
        "close_px = fobj['Adj Close']\n",
        "mavg = close_px.rolling(window=100).mean()\n",
        "print(mavg)"
      ],
      "execution_count": 200,
      "outputs": [
        {
          "output_type": "stream",
          "text": [
            "0             NaN\n",
            "1             NaN\n",
            "2             NaN\n",
            "3             NaN\n",
            "4             NaN\n",
            "5             NaN\n",
            "6             NaN\n",
            "7             NaN\n",
            "8             NaN\n",
            "9             NaN\n",
            "10            NaN\n",
            "11            NaN\n",
            "12            NaN\n",
            "13            NaN\n",
            "14            NaN\n",
            "15            NaN\n",
            "16            NaN\n",
            "17            NaN\n",
            "18            NaN\n",
            "19            NaN\n",
            "20            NaN\n",
            "21            NaN\n",
            "22            NaN\n",
            "23            NaN\n",
            "24            NaN\n",
            "25            NaN\n",
            "26            NaN\n",
            "27            NaN\n",
            "28            NaN\n",
            "29            NaN\n",
            "          ...    \n",
            "220    193.762515\n",
            "221    194.119453\n",
            "222    194.487473\n",
            "223    194.893862\n",
            "224    195.194881\n",
            "225    195.432020\n",
            "226    195.554824\n",
            "227    195.694043\n",
            "228    195.829867\n",
            "229    195.990569\n",
            "230    196.149358\n",
            "231    196.286871\n",
            "232    196.440511\n",
            "233    196.572044\n",
            "234    196.716401\n",
            "235    196.927710\n",
            "236    197.160846\n",
            "237    197.391602\n",
            "238    197.632951\n",
            "239    197.859698\n",
            "240    197.960657\n",
            "241    198.086917\n",
            "242    198.186503\n",
            "243    198.286788\n",
            "244    198.391109\n",
            "245    198.498685\n",
            "246    198.564745\n",
            "247    198.682279\n",
            "248    198.841507\n",
            "249    198.996962\n",
            "Name: Adj Close, Length: 250, dtype: float64\n"
          ],
          "name": "stdout"
        }
      ]
    },
    {
      "cell_type": "code",
      "metadata": {
        "id": "BPpK0iTRUHz4",
        "colab_type": "code",
        "outputId": "b8430810-5dce-49fa-e221-fec27d5baa3d",
        "colab": {
          "base_uri": "https://localhost:8080/",
          "height": 449
        }
      },
      "source": [
        "import matplotlib.pyplot as plt\n",
        "from matplotlib import style\n",
        "# Adjusting the size of matplotlib\n",
        "import matplotlib as mpl\n",
        "mpl.rc('figure', figsize=(8, 7))\n",
        "mpl.__version__\n",
        "# Adjusting the style of matplotlib\n",
        "style.use('ggplot')\n",
        "close_px.plot(label='AAPL')\n",
        "mavg.plot(label='mavg')\n",
        "plt.legend()"
      ],
      "execution_count": 201,
      "outputs": [
        {
          "output_type": "execute_result",
          "data": {
            "text/plain": [
              "<matplotlib.legend.Legend at 0x7f9a348dbb38>"
            ]
          },
          "metadata": {
            "tags": []
          },
          "execution_count": 201
        },
        {
          "output_type": "display_data",
          "data": {
            "image/png": "[encoded data removed]",
            "text/plain": [
              "<Figure size 576x504 with 1 Axes>"
            ]
          },
          "metadata": {
            "tags": []
          }
        }
      ]
    },
    {
      "cell_type": "markdown",
      "metadata": {
        "id": "r0595oeLaXZ8",
        "colab_type": "text"
      },
      "source": [
        "Moving averages lag behind current price action because they are based on past prices; the longer the time period for the moving average, the greater the lag."
      ]
    },
    {
      "cell_type": "markdown",
      "metadata": {
        "id": "YDw4NmQmVjJh",
        "colab_type": "text"
      },
      "source": [
        "The Formulas For Moving Averages Are\n",
        "Simple Moving Average\n",
        "\n",
        "\\begin{aligned} &SMA = \\frac{A_1 + A_2 + \\dotso + A_n}{n} \\\\ &\\textbf{where:}\\\\ &A=\\text{average in period }n\\\\ &n=\\text{number of time periods}\\\\ \\end{aligned} \n",
        "​\t  \n",
        "SMA= \n",
        "n\n",
        "A \n",
        "1\n",
        "​\t +A \n",
        "2\n",
        "​\t +…+A \n",
        "n\n",
        "​\t \n",
        "​\t \n",
        "where:\n",
        "A=average in period n\n",
        "n=number of time periods\n",
        "​\t"
      ]
    },
    {
      "cell_type": "code",
      "metadata": {
        "id": "LLSgjiFeVSag",
        "colab_type": "code",
        "outputId": "320eaba4-be47-4b1f-e1bd-a668fb785b6a",
        "colab": {
          "base_uri": "https://localhost:8080/",
          "height": 449
        }
      },
      "source": [
        "#plotting on returns\n",
        "rets = close_px / close_px.shift(1) - 1\n",
        "rets.plot(label='return')"
      ],
      "execution_count": 202,
      "outputs": [
        {
          "output_type": "execute_result",
          "data": {
            "text/plain": [
              "<matplotlib.axes._subplots.AxesSubplot at 0x7f9a348512e8>"
            ]
          },
          "metadata": {
            "tags": []
          },
          "execution_count": 202
        },
        {
          "output_type": "display_data",
          "data": {
            "image/png": "[encoded data removed]",
            "text/plain": [
              "<Figure size 576x504 with 1 Axes>"
            ]
          },
          "metadata": {
            "tags": []
          }
        }
      ]
    },
    {
      "cell_type": "markdown",
      "metadata": {
        "id": "PZ9y_Y2PVh15",
        "colab_type": "text"
      },
      "source": [
        "Return Deviation — to determine risk and return\n",
        "Expected Return measures the mean, or expected value, of the probability distribution of investment returns. The expected return of a portfolio is calculated by multiplying the weight of each asset by its expected return and adding the values for each investment — Investopedia."
      ]
    },
    {
      "cell_type": "markdown",
      "metadata": {
        "id": "bAEkp4RZiXFl",
        "colab_type": "text"
      },
      "source": [
        "# Predicting Stocks Price\n",
        "We will be using three machine learning models to predict our stocks.\n",
        "## Feature engineering "
      ]
    },
    {
      "cell_type": "code",
      "metadata": {
        "id": "3ux6kMJzZ7cc",
        "colab_type": "code",
        "colab": {}
      },
      "source": [
        "#we will need libraries\n",
        "from sklearn.linear_model import LinearRegression\n",
        "from sklearn.neighbors import KNeighborsRegressor\n",
        "from sklearn.linear_model import Ridge\n",
        "from sklearn.preprocessing import PolynomialFeatures\n",
        "from sklearn import pipeline\n",
        "fobjfreg = fobj.loc[:,['Adj Close','Volume']]"
      ],
      "execution_count": 0,
      "outputs": []
    },
    {
      "cell_type": "code",
      "metadata": {
        "id": "07Xxl-ygpF7P",
        "colab_type": "code",
        "colab": {
          "base_uri": "https://localhost:8080/",
          "height": 204
        },
        "outputId": "5d9d0729-0da8-4cf5-e838-a42673ac885a"
      },
      "source": [
        "fobjfreg['HL_PCT'] = fobj['High']- fobj['Low']/ fobj['Close']*100.0\n",
        "fobjfreg['Change'] = fobj['Close']- fobj['Open']/ fobj['Open']*100.0\n",
        "fobjfreg.head()\n"
      ],
      "execution_count": 204,
      "outputs": [
        {
          "output_type": "execute_result",
          "data": {
            "text/html": [
              "<div>\n",
              "<style scoped>\n",
              "    .dataframe tbody tr th:only-of-type {\n",
              "        vertical-align: middle;\n",
              "    }\n",
              "\n",
              "    .dataframe tbody tr th {\n",
              "        vertical-align: top;\n",
              "    }\n",
              "\n",
              "    .dataframe thead th {\n",
              "        text-align: right;\n",
              "    }\n",
              "</style>\n",
              "<table border=\"1\" class=\"dataframe\">\n",
              "  <thead>\n",
              "    <tr style=\"text-align: right;\">\n",
              "      <th></th>\n",
              "      <th>Adj Close</th>\n",
              "      <th>Volume</th>\n",
              "      <th>HL_PCT</th>\n",
              "      <th>Change</th>\n",
              "    </tr>\n",
              "  </thead>\n",
              "  <tbody>\n",
              "    <tr>\n",
              "      <th>0</th>\n",
              "      <td>214.993759</td>\n",
              "      <td>39516500</td>\n",
              "      <td>122.701928</td>\n",
              "      <td>118.330002</td>\n",
              "    </tr>\n",
              "    <tr>\n",
              "      <th>1</th>\n",
              "      <td>220.429443</td>\n",
              "      <td>35749000</td>\n",
              "      <td>127.556652</td>\n",
              "      <td>123.850006</td>\n",
              "    </tr>\n",
              "    <tr>\n",
              "      <th>2</th>\n",
              "      <td>217.691925</td>\n",
              "      <td>49278700</td>\n",
              "      <td>125.556390</td>\n",
              "      <td>121.070007</td>\n",
              "    </tr>\n",
              "    <tr>\n",
              "      <th>3</th>\n",
              "      <td>222.950317</td>\n",
              "      <td>41706400</td>\n",
              "      <td>130.046043</td>\n",
              "      <td>126.410004</td>\n",
              "    </tr>\n",
              "    <tr>\n",
              "      <th>4</th>\n",
              "      <td>220.419571</td>\n",
              "      <td>31999300</td>\n",
              "      <td>127.429699</td>\n",
              "      <td>123.839996</td>\n",
              "    </tr>\n",
              "  </tbody>\n",
              "</table>\n",
              "</div>"
            ],
            "text/plain": [
              "    Adj Close    Volume      HL_PCT      Change\n",
              "0  214.993759  39516500  122.701928  118.330002\n",
              "1  220.429443  35749000  127.556652  123.850006\n",
              "2  217.691925  49278700  125.556390  121.070007\n",
              "3  222.950317  41706400  130.046043  126.410004\n",
              "4  220.419571  31999300  127.429699  123.839996"
            ]
          },
          "metadata": {
            "tags": []
          },
          "execution_count": 204
        }
      ]
    },
    {
      "cell_type": "markdown",
      "metadata": {
        "id": "jyjDo2jXrZ7h",
        "colab_type": "text"
      },
      "source": [
        "# Pre-processing & Cross Validation\n",
        "We will clean up and process the data using the following steps before putting them into the prediction models:\n",
        "1.   Drop missing value\n",
        "2.   Separating the label here, we want to predict the AdjClose\n",
        "1.   Scale the X so that everyone can have the same distribution for linear regression\n",
        "2.   Finally We want to find Data Series of late X and early X (train) for model generation and evaluation\n",
        "5.   Separate label and identify it as y\n",
        "6. Separation of training and testing of model by cross validation train test split"
      ]
    },
    {
      "cell_type": "code",
      "metadata": {
        "id": "McuZYvWds2Bw",
        "colab_type": "code",
        "colab": {}
      },
      "source": [
        "# We want to separate 1 percent of the data to forecast\n",
        "import math\n",
        "from sklearn.model_selection import train_test_split\n",
        "forecast_data = int(math.ceil(0.01 * len(fobjfreg)))\n",
        "# Separating the label here, we want to predict the AdjClose\n",
        "forecast_col = 'Adj Close'\n",
        "fobjfreg['label'] = fobjfreg[forecast_col].shift(-forecast_data)\n",
        "X = np.array(fobjfreg.drop(['label'], 1))\n",
        "# Scale the X so that everyone can have the same distribution for linear regression\n",
        "from sklearn import preprocessing \n",
        "X = preprocessing.scale(X)\n",
        "# Finally We want to find Data Series of late X and early X (train) for model generation and evaluation\n",
        "X_lately = X[-forecast_data:]\n",
        "X = X[:-forecast_data]\n",
        "# Separate label and identify it as y\n",
        "y = np.array(fobjfreg['label'])\n",
        "y = y[:-forecast_data]\n",
        "# Cross validation is used to split training and testing data. \n",
        "#if X is your feature and y is your label, you can get your train-test data as:\n",
        "X_train, X_test, y_train, y_test = train_test_split(X, y, test_size=0.3, random_state=3)\n",
        "clf = LinearRegression(n_jobs=-1)\n",
        "clf = LinearRegression(n_jobs=-1)\n",
        "clf.fit(X_train, y_train)\n",
        "confidence = clf.score(X_test, y_test)"
      ],
      "execution_count": 0,
      "outputs": []
    },
    {
      "cell_type": "code",
      "metadata": {
        "id": "FEEKdNwXZVpV",
        "colab_type": "code",
        "colab": {
          "base_uri": "https://localhost:8080/",
          "height": 34
        },
        "outputId": "ddbecaf8-0144-4fdd-8896-be3d23fc77af"
      },
      "source": [
        "print(forecast_col)"
      ],
      "execution_count": 206,
      "outputs": [
        {
          "output_type": "stream",
          "text": [
            "Adj Close\n"
          ],
          "name": "stdout"
        }
      ]
    },
    {
      "cell_type": "code",
      "metadata": {
        "id": "biC2JzVIZiWK",
        "colab_type": "code",
        "colab": {}
      },
      "source": [
        ""
      ],
      "execution_count": 0,
      "outputs": []
    },
    {
      "cell_type": "code",
      "metadata": {
        "id": "Y2fdnNBbSmx-",
        "colab_type": "code",
        "colab": {
          "base_uri": "https://localhost:8080/",
          "height": 1000
        },
        "outputId": "9707f8d3-a358-4c00-b9d0-278a83f3acf0"
      },
      "source": [
        "print(X_test, y_test )"
      ],
      "execution_count": 207,
      "outputs": [
        {
          "output_type": "stream",
          "text": [
            "[[ 1.69779475 -0.56009013  1.70428866  1.77245452]\n",
            " [-1.14931692  1.05575388 -1.06423463 -1.12018096]\n",
            " [-0.16710645 -0.19658539 -0.2098623  -0.17393393]\n",
            " [-1.51749736  1.1825876  -1.26276678 -1.48933213]\n",
            " [ 0.67036013 -1.12334217  0.53352103  0.62446244]\n",
            " [ 0.74676694 -0.51882751  0.74661174  0.78089838]\n",
            " [ 1.17446418 -0.07279034  1.2874597   1.24591402]\n",
            " [ 0.99480539  1.47547032  1.1988101   1.06515371]\n",
            " [ 1.52998706 -0.69361897  1.48840459  1.60361836]\n",
            " [-0.24736442  1.2366945  -0.05415802 -0.25406009]\n",
            " [-1.87806802  0.89896453 -1.81450784 -1.85085203]\n",
            " [-0.27937193  0.4639111  -0.3127344  -0.28601491]\n",
            " [-1.75676695 -0.19853933 -1.70083505 -1.72923241]\n",
            " [-1.01124705 -0.77218605 -1.09577129 -1.01668527]\n",
            " [ 1.38730352  0.444149    1.50041402  1.46005926]\n",
            " [ 0.88472513 -0.78384504  0.75973407  0.83765356]\n",
            " [ 0.20805878 -0.82716935  0.198996    0.16469313]\n",
            " [-0.05186605 -0.13653046 -0.04655915 -0.0938085 ]\n",
            " [ 0.6572053  -0.48214084  0.64724772  0.57438369]\n",
            " [-0.15420791  0.80889651 -0.09916217 -0.16105639]\n",
            " [ 1.56174776  0.65524639  1.65167902  1.63557323]\n",
            " [ 1.36312837  1.84893154  1.402721    1.4357356 ]\n",
            " [ 0.72576352 -1.08072903  0.63181718  0.71746543]\n",
            " [ 0.3207562  -0.10591394  0.22442485  0.27677339]\n",
            " [-0.62350802 -0.33308824 -0.68436678 -0.66231983]\n",
            " [-0.49004883 -0.11152433 -0.54379437 -0.49634449]\n",
            " [ 0.95518435 -0.58699991  0.83799121  0.8696091 ]\n",
            " [-1.25349147  0.58579531 -1.18877587 -1.22463077]\n",
            " [-2.18631151  0.3293119  -2.06182475 -2.15990839]\n",
            " [ 0.12749157 -1.28700623  0.03041404  0.08456697]\n",
            " [-1.694453    1.86755862 -1.48510176 -1.66675353]\n",
            " [ 0.149148    1.32531863  0.18161051  0.14179953]\n",
            " [ 1.6020402  -0.64538825  1.64098274  1.67611263]\n",
            " [-0.95248757 -0.46482117 -1.00886623 -0.95802194]\n",
            " [-0.01493929 -0.43391012 -0.04214654 -0.05708399]\n",
            " [-1.80053005 -0.14477005 -1.80494378 -1.77311076]\n",
            " [-0.85962418  0.75524217 -0.85163978 -0.82972523]\n",
            " [-0.62986835  0.65981517 -0.53926259 -0.59936353]\n",
            " [-1.66733822  0.17373659 -1.66145804 -1.63956766]\n",
            " [ 0.38520101  2.41216203  0.51583222  0.45180995]\n",
            " [-0.84261002 -1.1145207  -0.91211538 -0.8483258 ]\n",
            " [ 0.27663606  0.23273553  0.20702555  0.23289509]\n",
            " [-0.81203632 -0.48121416 -0.89441553 -0.81780175]\n",
            " [-0.15516356 -0.84799462 -0.23774518 -0.16201046]\n",
            " [-0.02669853  1.02710567  0.11283792  0.00539494]\n",
            " [ 0.41571887  1.00210672  0.42532666  0.40793165]\n",
            " [-0.67600921  0.49901019 -0.66405638 -0.64562668]\n",
            " [-0.62015116 -0.81653044 -0.71401251 -0.65898093]\n",
            " [ 0.42146519 -0.52055157  0.33181778  0.37693089]\n",
            " [ 0.06558387  1.33259562  0.22945682  0.09792122]\n",
            " [ 0.37446717  0.05599013  0.33075899  0.33019034]\n",
            " [ 0.7571614  -1.3415657   0.67197064  0.71078828]\n",
            " [ 0.53324003 -0.26422621  0.49301396  0.52525901]\n",
            " [-0.03477626 -0.33928051 -0.09623879 -0.04182161]\n",
            " [ 1.43992078 -0.04207325  1.52764633  1.5129995 ]\n",
            " [ 0.69194016 -1.00590461  0.55122273  0.64592456]\n",
            " [ 0.88875261  1.05121384  0.9954133   0.80379126]\n",
            " [-1.12695974  0.21857665 -1.10165292 -1.09776477]\n",
            " [ 1.08250132  1.0540801   1.26399433  1.15338774]\n",
            " [ 1.13274895 -0.12887274  1.26414497  1.20394319]\n",
            " [ 0.5514272  -1.12421857  0.40770979  0.50618101]\n",
            " [ 0.35240821 -1.03189489  0.24466299  0.30825157]\n",
            " [-1.2991585   0.5832164  -1.2328016  -1.27041721]\n",
            " [ 0.82083127 -0.04228876  0.85010605  0.81237583]\n",
            " [ 0.41333017 -0.78227183  0.32002874  0.40554681]\n",
            " [-1.9998436   0.60631887 -1.98664628 -1.97294835]\n",
            " [ 1.29534139 -0.35139206  1.32448097  1.36753292]\n",
            " [ 0.31835865 -0.82329739  0.23501785  0.27438855]\n",
            " [ 1.2778028  -0.61781039  1.36739827  1.34988642]\n",
            " [ 0.74105075 -0.6653443   0.67649215  0.7327271 ]\n",
            " [ 0.50460546 -0.57219451  0.39823011  0.42319404]\n",
            " [-0.88531175  0.25261975 -0.90428273 -0.85548032]\n",
            " [-0.2849956   2.02692688 -0.01231703 -0.25358267]\n",
            " [-1.88948351 -0.27829889 -1.88881361 -1.86229814]\n",
            " [-0.83353336 -0.84583954 -0.91889759 -0.83926387]] [220.862717 163.519913 189.785278 145.090836 204.881561 189.953079\n",
            " 214.33403  218.755417 228.523819 188.505081 148.223282 186.728714\n",
            " 152.096848 170.721405 212.994797 207.641068 197.170853 193.454987\n",
            " 208.740005 187.284439 214.905167 200.656265 203.053589 203.636292\n",
            " 174.407349 186.589783 212.460007 172.116867 154.379486 198.705032\n",
            " 155.871613 185.369125 224.50618  172.904678 182.396988 151.484207\n",
            " 166.632614 174.597153 146.503891 206.020493 173.639038 200.990005\n",
            " 173.192474 192.544144 191.237686 210.139267 172.650482 178.960052\n",
            " 200.986359 189.142792 200.479996 207.989746 205.901749 194.201431\n",
            " 215.033142 208.049515 206.5      161.998169 215.515686 212.719086\n",
            " 199.262909 198.983978 158.984299 201.316895 197.714493 150.48616\n",
            " 221.512604 197.828369 223.787323 202.745941 202.75     169.113724\n",
            " 183.658539 154.962494 177.539139]\n"
          ],
          "name": "stdout"
        }
      ]
    },
    {
      "cell_type": "markdown",
      "metadata": {
        "id": "OZzNHiKw1bX9",
        "colab_type": "text"
      },
      "source": [
        "# Model Generation\n",
        "## Simple Linear Analysis & Quadratic Discriminant Analysis\n",
        "Simple Linear Analysis is a linear relationship between two or more variables. It generates a straigt line when you plot it. Quadratic Discriminant Analysis is relationsip between two variables with ploynomial characteristics producing a curved line."
      ]
    },
    {
      "cell_type": "code",
      "metadata": {
        "id": "A89VeHKF1XaU",
        "colab_type": "code",
        "outputId": "a19504bb-14c0-457a-8822-7ccb0ec97020",
        "colab": {
          "base_uri": "https://localhost:8080/",
          "height": 170
        }
      },
      "source": [
        "from sklearn.pipeline import make_pipeline\n",
        "# Linear regression\n",
        "clfreg = LinearRegression(n_jobs=-1)\n",
        "clfreg.fit(X_train, y_train)\n",
        "# Quadratic Regression 2\n",
        "clfpoly2 = make_pipeline(PolynomialFeatures(2), Ridge())\n",
        "clfpoly2.fit(X_train, y_train)\n",
        "# Quadratic Regression 3\n",
        "clfpoly3 = make_pipeline(PolynomialFeatures(3), Ridge())\n",
        "clfpoly3.fit(X_train, y_train)"
      ],
      "execution_count": 208,
      "outputs": [
        {
          "output_type": "execute_result",
          "data": {
            "text/plain": [
              "Pipeline(memory=None,\n",
              "         steps=[('polynomialfeatures',\n",
              "                 PolynomialFeatures(degree=3, include_bias=True,\n",
              "                                    interaction_only=False, order='C')),\n",
              "                ('ridge',\n",
              "                 Ridge(alpha=1.0, copy_X=True, fit_intercept=True,\n",
              "                       max_iter=None, normalize=False, random_state=None,\n",
              "                       solver='auto', tol=0.001))],\n",
              "         verbose=False)"
            ]
          },
          "metadata": {
            "tags": []
          },
          "execution_count": 208
        }
      ]
    },
    {
      "cell_type": "markdown",
      "metadata": {
        "id": "sFOQMe3wJCUt",
        "colab_type": "text"
      },
      "source": [
        "## K Nearest Neighbor (KNN)\n",
        "This KNN uses feature similarity to predict values of data points. This ensures that the new point assigned is similar to the points in the data set. To find out similarity, we will extract the points to release the minimum distance (e.g: Euclidean Distance)."
      ]
    },
    {
      "cell_type": "code",
      "metadata": {
        "id": "y7jgK5_UJB5F",
        "colab_type": "code",
        "colab": {
          "base_uri": "https://localhost:8080/",
          "height": 68
        },
        "outputId": "ac11065d-62ac-4363-b105-d043f75a1a61"
      },
      "source": [
        "# KNN Regression\n",
        "clfknn = KNeighborsRegressor(n_neighbors=2)\n",
        "clfknn.fit(X_train, y_train)"
      ],
      "execution_count": 209,
      "outputs": [
        {
          "output_type": "execute_result",
          "data": {
            "text/plain": [
              "KNeighborsRegressor(algorithm='auto', leaf_size=30, metric='minkowski',\n",
              "                    metric_params=None, n_jobs=None, n_neighbors=2, p=2,\n",
              "                    weights='uniform')"
            ]
          },
          "metadata": {
            "tags": []
          },
          "execution_count": 209
        }
      ]
    },
    {
      "cell_type": "markdown",
      "metadata": {
        "id": "J0LEkNHHJYAc",
        "colab_type": "text"
      },
      "source": [
        "## Evaluation\n",
        "A simple quick and dirty way to evaluate is to use the score method in each trained model. The score method finds the mean accuracy of self.predict(X) with y of the test data set."
      ]
    },
    {
      "cell_type": "code",
      "metadata": {
        "id": "tFsfVgJhH40f",
        "colab_type": "code",
        "colab": {}
      },
      "source": [
        "confidencereg = clfreg.score(X_test, y_test)\n",
        "confidencepoly2 = clfpoly2.score(X_test,y_test)\n",
        "confidencepoly3 = clfpoly3.score(X_test,y_test)\n",
        "confidenceknn = clfknn.score(X_test, y_test)"
      ],
      "execution_count": 0,
      "outputs": []
    },
    {
      "cell_type": "code",
      "metadata": {
        "id": "7bjurpj4MjGD",
        "colab_type": "code",
        "colab": {
          "base_uri": "https://localhost:8080/",
          "height": 85
        },
        "outputId": "b164b8dc-4c64-4903-dfa5-07860723179a"
      },
      "source": [
        "print(confidencereg)\n",
        "print(confidencepoly2)\n",
        "print(confidencepoly3)\n",
        "print(confidenceknn)"
      ],
      "execution_count": 211,
      "outputs": [
        {
          "output_type": "stream",
          "text": [
            "0.9359442415280995\n",
            "0.9364416782788315\n",
            "0.937513746965965\n",
            "0.9026360197424201\n"
          ],
          "name": "stdout"
        }
      ]
    },
    {
      "cell_type": "code",
      "metadata": {
        "id": "33UEjXjcceLs",
        "colab_type": "code",
        "colab": {
          "base_uri": "https://localhost:8080/",
          "height": 34
        },
        "outputId": "1721273e-c2d6-4d8e-b962-eaeee53aebc4"
      },
      "source": [
        "forecast_set = clf.predict(X_lately)\n",
        "fobjfreg['Forecast'] = np.nan\n",
        "print(forecast_set)"
      ],
      "execution_count": 214,
      "outputs": [
        {
          "output_type": "stream",
          "text": [
            "[209.52526587 213.19141471 213.34802729]\n"
          ],
          "name": "stdout"
        }
      ]
    },
    {
      "cell_type": "markdown",
      "metadata": {
        "id": "yoN1NbZpvvFo",
        "colab_type": "text"
      },
      "source": [
        "References\n",
        "https://pythonprogramming.net/forecasting-predicting-machine-learning-tutorial/\n",
        "https://towardsdatascience.com/in-12-minutes-stocks-analysis-with-pandas-and-scikit-learn-a8d8a7b50ee7"
      ]
    }
  ]
}